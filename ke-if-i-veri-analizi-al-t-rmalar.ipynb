{
 "cells": [
  {
   "cell_type": "markdown",
   "id": "infrared-college",
   "metadata": {
    "papermill": {
     "duration": 0.028488,
     "end_time": "2021-06-13T21:37:50.258923",
     "exception": false,
     "start_time": "2021-06-13T21:37:50.230435",
     "status": "completed"
    },
    "tags": []
   },
   "source": [
    "## Keşifçi Veri Analizi | Becerileri Pekiştirme"
   ]
  },
  {
   "cell_type": "markdown",
   "id": "major-myanmar",
   "metadata": {
    "papermill": {
     "duration": 0.025747,
     "end_time": "2021-06-13T21:37:50.310611",
     "exception": false,
     "start_time": "2021-06-13T21:37:50.284864",
     "status": "completed"
    },
    "tags": []
   },
   "source": [
    "Aşağıda ihtiyacımız doğrultusunda kullanacağımız kütüphaneleri yükleyelim."
   ]
  },
  {
   "cell_type": "code",
   "execution_count": 1,
   "id": "previous-throat",
   "metadata": {
    "execution": {
     "iopub.execute_input": "2021-06-13T21:37:50.367780Z",
     "iopub.status.busy": "2021-06-13T21:37:50.367286Z",
     "iopub.status.idle": "2021-06-13T21:37:51.321162Z",
     "shell.execute_reply": "2021-06-13T21:37:51.320448Z"
    },
    "papermill": {
     "duration": 0.984762,
     "end_time": "2021-06-13T21:37:51.321349",
     "exception": false,
     "start_time": "2021-06-13T21:37:50.336587",
     "status": "completed"
    },
    "tags": []
   },
   "outputs": [],
   "source": [
    "import numpy as np\n",
    "import seaborn as sns\n",
    "import pandas as pd"
   ]
  },
  {
   "cell_type": "markdown",
   "id": "handmade-foundation",
   "metadata": {
    "papermill": {
     "duration": 0.02562,
     "end_time": "2021-06-13T21:37:51.373644",
     "exception": false,
     "start_time": "2021-06-13T21:37:51.348024",
     "status": "completed"
    },
    "tags": []
   },
   "source": [
    "Veri çerçevemizi bulunduğumuz dizinden yükleyelim ve bir veri çerçevesi haline getirerek df değişkenine atayalım. (pd.read_csv(...csv))"
   ]
  },
  {
   "cell_type": "code",
   "execution_count": 2,
   "id": "postal-tuner",
   "metadata": {
    "execution": {
     "iopub.execute_input": "2021-06-13T21:37:51.431185Z",
     "iopub.status.busy": "2021-06-13T21:37:51.430554Z",
     "iopub.status.idle": "2021-06-13T21:37:51.452401Z",
     "shell.execute_reply": "2021-06-13T21:37:51.451899Z"
    },
    "papermill": {
     "duration": 0.052609,
     "end_time": "2021-06-13T21:37:51.452536",
     "exception": false,
     "start_time": "2021-06-13T21:37:51.399927",
     "status": "completed"
    },
    "tags": []
   },
   "outputs": [],
   "source": [
    "df = pd.read_csv(\"../input/iris-flower-dataset/IRIS.csv\")"
   ]
  },
  {
   "cell_type": "markdown",
   "id": "liquid-mainstream",
   "metadata": {
    "papermill": {
     "duration": 0.026272,
     "end_time": "2021-06-13T21:37:51.508156",
     "exception": false,
     "start_time": "2021-06-13T21:37:51.481884",
     "status": "completed"
    },
    "tags": []
   },
   "source": [
    "Veri çerçevesinin ilk 5 gözlemini görüntüleyelim."
   ]
  },
  {
   "cell_type": "code",
   "execution_count": 3,
   "id": "military-netscape",
   "metadata": {
    "execution": {
     "iopub.execute_input": "2021-06-13T21:37:51.563508Z",
     "iopub.status.busy": "2021-06-13T21:37:51.562634Z",
     "iopub.status.idle": "2021-06-13T21:37:51.590146Z",
     "shell.execute_reply": "2021-06-13T21:37:51.590647Z"
    },
    "papermill": {
     "duration": 0.056858,
     "end_time": "2021-06-13T21:37:51.590802",
     "exception": false,
     "start_time": "2021-06-13T21:37:51.533944",
     "status": "completed"
    },
    "tags": []
   },
   "outputs": [
    {
     "data": {
      "text/html": [
       "<div>\n",
       "<style scoped>\n",
       "    .dataframe tbody tr th:only-of-type {\n",
       "        vertical-align: middle;\n",
       "    }\n",
       "\n",
       "    .dataframe tbody tr th {\n",
       "        vertical-align: top;\n",
       "    }\n",
       "\n",
       "    .dataframe thead th {\n",
       "        text-align: right;\n",
       "    }\n",
       "</style>\n",
       "<table border=\"1\" class=\"dataframe\">\n",
       "  <thead>\n",
       "    <tr style=\"text-align: right;\">\n",
       "      <th></th>\n",
       "      <th>sepal_length</th>\n",
       "      <th>sepal_width</th>\n",
       "      <th>petal_length</th>\n",
       "      <th>petal_width</th>\n",
       "      <th>species</th>\n",
       "    </tr>\n",
       "  </thead>\n",
       "  <tbody>\n",
       "    <tr>\n",
       "      <th>0</th>\n",
       "      <td>5.1</td>\n",
       "      <td>3.5</td>\n",
       "      <td>1.4</td>\n",
       "      <td>0.2</td>\n",
       "      <td>Iris-setosa</td>\n",
       "    </tr>\n",
       "    <tr>\n",
       "      <th>1</th>\n",
       "      <td>4.9</td>\n",
       "      <td>3.0</td>\n",
       "      <td>1.4</td>\n",
       "      <td>0.2</td>\n",
       "      <td>Iris-setosa</td>\n",
       "    </tr>\n",
       "    <tr>\n",
       "      <th>2</th>\n",
       "      <td>4.7</td>\n",
       "      <td>3.2</td>\n",
       "      <td>1.3</td>\n",
       "      <td>0.2</td>\n",
       "      <td>Iris-setosa</td>\n",
       "    </tr>\n",
       "    <tr>\n",
       "      <th>3</th>\n",
       "      <td>4.6</td>\n",
       "      <td>3.1</td>\n",
       "      <td>1.5</td>\n",
       "      <td>0.2</td>\n",
       "      <td>Iris-setosa</td>\n",
       "    </tr>\n",
       "    <tr>\n",
       "      <th>4</th>\n",
       "      <td>5.0</td>\n",
       "      <td>3.6</td>\n",
       "      <td>1.4</td>\n",
       "      <td>0.2</td>\n",
       "      <td>Iris-setosa</td>\n",
       "    </tr>\n",
       "  </tbody>\n",
       "</table>\n",
       "</div>"
      ],
      "text/plain": [
       "   sepal_length  sepal_width  petal_length  petal_width      species\n",
       "0           5.1          3.5           1.4          0.2  Iris-setosa\n",
       "1           4.9          3.0           1.4          0.2  Iris-setosa\n",
       "2           4.7          3.2           1.3          0.2  Iris-setosa\n",
       "3           4.6          3.1           1.5          0.2  Iris-setosa\n",
       "4           5.0          3.6           1.4          0.2  Iris-setosa"
      ]
     },
     "execution_count": 3,
     "metadata": {},
     "output_type": "execute_result"
    }
   ],
   "source": [
    "df.head()"
   ]
  },
  {
   "cell_type": "markdown",
   "id": "enhanced-sport",
   "metadata": {
    "papermill": {
     "duration": 0.026549,
     "end_time": "2021-06-13T21:37:51.644159",
     "exception": false,
     "start_time": "2021-06-13T21:37:51.617610",
     "status": "completed"
    },
    "tags": []
   },
   "source": [
    "Veri çerçevesinin kaç öznitelik ve kaç gözlemden oluştuğunu görüntüleyelim."
   ]
  },
  {
   "cell_type": "code",
   "execution_count": 4,
   "id": "czech-vermont",
   "metadata": {
    "execution": {
     "iopub.execute_input": "2021-06-13T21:37:51.700544Z",
     "iopub.status.busy": "2021-06-13T21:37:51.699941Z",
     "iopub.status.idle": "2021-06-13T21:37:51.705458Z",
     "shell.execute_reply": "2021-06-13T21:37:51.705007Z"
    },
    "papermill": {
     "duration": 0.034926,
     "end_time": "2021-06-13T21:37:51.705584",
     "exception": false,
     "start_time": "2021-06-13T21:37:51.670658",
     "status": "completed"
    },
    "tags": []
   },
   "outputs": [
    {
     "data": {
      "text/plain": [
       "(150, 5)"
      ]
     },
     "execution_count": 4,
     "metadata": {},
     "output_type": "execute_result"
    }
   ],
   "source": [
    "df.shape"
   ]
  },
  {
   "cell_type": "markdown",
   "id": "pharmaceutical-needle",
   "metadata": {
    "papermill": {
     "duration": 0.026859,
     "end_time": "2021-06-13T21:37:51.759526",
     "exception": false,
     "start_time": "2021-06-13T21:37:51.732667",
     "status": "completed"
    },
    "tags": []
   },
   "source": [
    "Veri çerçevesindeki değişkenlerin hangi tipte olduğunu ve bellek kullanımını görüntüleyelim."
   ]
  },
  {
   "cell_type": "code",
   "execution_count": 5,
   "id": "cathedral-portland",
   "metadata": {
    "execution": {
     "iopub.execute_input": "2021-06-13T21:37:51.831268Z",
     "iopub.status.busy": "2021-06-13T21:37:51.830385Z",
     "iopub.status.idle": "2021-06-13T21:37:51.834944Z",
     "shell.execute_reply": "2021-06-13T21:37:51.834530Z"
    },
    "papermill": {
     "duration": 0.048653,
     "end_time": "2021-06-13T21:37:51.835105",
     "exception": false,
     "start_time": "2021-06-13T21:37:51.786452",
     "status": "completed"
    },
    "tags": []
   },
   "outputs": [
    {
     "name": "stdout",
     "output_type": "stream",
     "text": [
      "<class 'pandas.core.frame.DataFrame'>\n",
      "RangeIndex: 150 entries, 0 to 149\n",
      "Data columns (total 5 columns):\n",
      " #   Column        Non-Null Count  Dtype  \n",
      "---  ------        --------------  -----  \n",
      " 0   sepal_length  150 non-null    float64\n",
      " 1   sepal_width   150 non-null    float64\n",
      " 2   petal_length  150 non-null    float64\n",
      " 3   petal_width   150 non-null    float64\n",
      " 4   species       150 non-null    object \n",
      "dtypes: float64(4), object(1)\n",
      "memory usage: 6.0+ KB\n"
     ]
    }
   ],
   "source": [
    "df.info()"
   ]
  },
  {
   "cell_type": "markdown",
   "id": "found-particle",
   "metadata": {
    "papermill": {
     "duration": 0.026999,
     "end_time": "2021-06-13T21:37:51.889897",
     "exception": false,
     "start_time": "2021-06-13T21:37:51.862898",
     "status": "completed"
    },
    "tags": []
   },
   "source": [
    "Veri çerçevesindeki sayısal değişkenler için temel istatistik değerlerini görüntüleyelim.\n",
    "\n",
    "Standart sapma ve ortalama değerlerden çıkarımda bulunarak hangi değişkenlerin ne kadar varyansa sahip olduğu hakkında fikir yürütelim."
   ]
  },
  {
   "cell_type": "code",
   "execution_count": 6,
   "id": "liked-dressing",
   "metadata": {
    "execution": {
     "iopub.execute_input": "2021-06-13T21:37:51.948465Z",
     "iopub.status.busy": "2021-06-13T21:37:51.947855Z",
     "iopub.status.idle": "2021-06-13T21:37:51.973721Z",
     "shell.execute_reply": "2021-06-13T21:37:51.973246Z"
    },
    "papermill": {
     "duration": 0.055678,
     "end_time": "2021-06-13T21:37:51.973860",
     "exception": false,
     "start_time": "2021-06-13T21:37:51.918182",
     "status": "completed"
    },
    "tags": []
   },
   "outputs": [
    {
     "data": {
      "text/html": [
       "<div>\n",
       "<style scoped>\n",
       "    .dataframe tbody tr th:only-of-type {\n",
       "        vertical-align: middle;\n",
       "    }\n",
       "\n",
       "    .dataframe tbody tr th {\n",
       "        vertical-align: top;\n",
       "    }\n",
       "\n",
       "    .dataframe thead th {\n",
       "        text-align: right;\n",
       "    }\n",
       "</style>\n",
       "<table border=\"1\" class=\"dataframe\">\n",
       "  <thead>\n",
       "    <tr style=\"text-align: right;\">\n",
       "      <th></th>\n",
       "      <th>count</th>\n",
       "      <th>mean</th>\n",
       "      <th>std</th>\n",
       "      <th>min</th>\n",
       "      <th>25%</th>\n",
       "      <th>50%</th>\n",
       "      <th>75%</th>\n",
       "      <th>max</th>\n",
       "    </tr>\n",
       "  </thead>\n",
       "  <tbody>\n",
       "    <tr>\n",
       "      <th>sepal_length</th>\n",
       "      <td>150.0</td>\n",
       "      <td>5.843333</td>\n",
       "      <td>0.828066</td>\n",
       "      <td>4.3</td>\n",
       "      <td>5.1</td>\n",
       "      <td>5.80</td>\n",
       "      <td>6.4</td>\n",
       "      <td>7.9</td>\n",
       "    </tr>\n",
       "    <tr>\n",
       "      <th>sepal_width</th>\n",
       "      <td>150.0</td>\n",
       "      <td>3.054000</td>\n",
       "      <td>0.433594</td>\n",
       "      <td>2.0</td>\n",
       "      <td>2.8</td>\n",
       "      <td>3.00</td>\n",
       "      <td>3.3</td>\n",
       "      <td>4.4</td>\n",
       "    </tr>\n",
       "    <tr>\n",
       "      <th>petal_length</th>\n",
       "      <td>150.0</td>\n",
       "      <td>3.758667</td>\n",
       "      <td>1.764420</td>\n",
       "      <td>1.0</td>\n",
       "      <td>1.6</td>\n",
       "      <td>4.35</td>\n",
       "      <td>5.1</td>\n",
       "      <td>6.9</td>\n",
       "    </tr>\n",
       "    <tr>\n",
       "      <th>petal_width</th>\n",
       "      <td>150.0</td>\n",
       "      <td>1.198667</td>\n",
       "      <td>0.763161</td>\n",
       "      <td>0.1</td>\n",
       "      <td>0.3</td>\n",
       "      <td>1.30</td>\n",
       "      <td>1.8</td>\n",
       "      <td>2.5</td>\n",
       "    </tr>\n",
       "  </tbody>\n",
       "</table>\n",
       "</div>"
      ],
      "text/plain": [
       "              count      mean       std  min  25%   50%  75%  max\n",
       "sepal_length  150.0  5.843333  0.828066  4.3  5.1  5.80  6.4  7.9\n",
       "sepal_width   150.0  3.054000  0.433594  2.0  2.8  3.00  3.3  4.4\n",
       "petal_length  150.0  3.758667  1.764420  1.0  1.6  4.35  5.1  6.9\n",
       "petal_width   150.0  1.198667  0.763161  0.1  0.3  1.30  1.8  2.5"
      ]
     },
     "execution_count": 6,
     "metadata": {},
     "output_type": "execute_result"
    }
   ],
   "source": [
    "df.describe().T"
   ]
  },
  {
   "cell_type": "markdown",
   "id": "sharing-record",
   "metadata": {
    "papermill": {
     "duration": 0.028065,
     "end_time": "2021-06-13T21:37:52.029907",
     "exception": false,
     "start_time": "2021-06-13T21:37:52.001842",
     "status": "completed"
    },
    "tags": []
   },
   "source": [
    "Veri çerçevesinde hangi öznitelikte kaç adet eksik değer olduğunu gözlemleyelim."
   ]
  },
  {
   "cell_type": "code",
   "execution_count": 7,
   "id": "mexican-string",
   "metadata": {
    "execution": {
     "iopub.execute_input": "2021-06-13T21:37:52.089030Z",
     "iopub.status.busy": "2021-06-13T21:37:52.088490Z",
     "iopub.status.idle": "2021-06-13T21:37:52.094868Z",
     "shell.execute_reply": "2021-06-13T21:37:52.095271Z"
    },
    "papermill": {
     "duration": 0.037616,
     "end_time": "2021-06-13T21:37:52.095432",
     "exception": false,
     "start_time": "2021-06-13T21:37:52.057816",
     "status": "completed"
    },
    "tags": []
   },
   "outputs": [
    {
     "data": {
      "text/plain": [
       "sepal_length    0\n",
       "sepal_width     0\n",
       "petal_length    0\n",
       "petal_width     0\n",
       "species         0\n",
       "dtype: int64"
      ]
     },
     "execution_count": 7,
     "metadata": {},
     "output_type": "execute_result"
    }
   ],
   "source": [
    "df.isna().sum()"
   ]
  },
  {
   "cell_type": "markdown",
   "id": "aquatic-trailer",
   "metadata": {
    "papermill": {
     "duration": 0.027476,
     "end_time": "2021-06-13T21:37:52.150764",
     "exception": false,
     "start_time": "2021-06-13T21:37:52.123288",
     "status": "completed"
    },
    "tags": []
   },
   "source": [
    "Sayısal değişkenler arasında korelasyon olup olmadığını göstermek için korelasyon matrisi çizdirelim. Korelasyon katsayıları hakkında fikir yürütelim.\n",
    "\n",
    "En güçlü pozitif ilişki hangi iki değişken arasındadır?"
   ]
  },
  {
   "cell_type": "code",
   "execution_count": 8,
   "id": "needed-retro",
   "metadata": {
    "execution": {
     "iopub.execute_input": "2021-06-13T21:37:52.209701Z",
     "iopub.status.busy": "2021-06-13T21:37:52.209052Z",
     "iopub.status.idle": "2021-06-13T21:37:52.220634Z",
     "shell.execute_reply": "2021-06-13T21:37:52.220993Z"
    },
    "papermill": {
     "duration": 0.042579,
     "end_time": "2021-06-13T21:37:52.221178",
     "exception": false,
     "start_time": "2021-06-13T21:37:52.178599",
     "status": "completed"
    },
    "tags": []
   },
   "outputs": [
    {
     "data": {
      "text/html": [
       "<div>\n",
       "<style scoped>\n",
       "    .dataframe tbody tr th:only-of-type {\n",
       "        vertical-align: middle;\n",
       "    }\n",
       "\n",
       "    .dataframe tbody tr th {\n",
       "        vertical-align: top;\n",
       "    }\n",
       "\n",
       "    .dataframe thead th {\n",
       "        text-align: right;\n",
       "    }\n",
       "</style>\n",
       "<table border=\"1\" class=\"dataframe\">\n",
       "  <thead>\n",
       "    <tr style=\"text-align: right;\">\n",
       "      <th></th>\n",
       "      <th>sepal_length</th>\n",
       "      <th>sepal_width</th>\n",
       "      <th>petal_length</th>\n",
       "      <th>petal_width</th>\n",
       "    </tr>\n",
       "  </thead>\n",
       "  <tbody>\n",
       "    <tr>\n",
       "      <th>sepal_length</th>\n",
       "      <td>1.000000</td>\n",
       "      <td>-0.109369</td>\n",
       "      <td>0.871754</td>\n",
       "      <td>0.817954</td>\n",
       "    </tr>\n",
       "    <tr>\n",
       "      <th>sepal_width</th>\n",
       "      <td>-0.109369</td>\n",
       "      <td>1.000000</td>\n",
       "      <td>-0.420516</td>\n",
       "      <td>-0.356544</td>\n",
       "    </tr>\n",
       "    <tr>\n",
       "      <th>petal_length</th>\n",
       "      <td>0.871754</td>\n",
       "      <td>-0.420516</td>\n",
       "      <td>1.000000</td>\n",
       "      <td>0.962757</td>\n",
       "    </tr>\n",
       "    <tr>\n",
       "      <th>petal_width</th>\n",
       "      <td>0.817954</td>\n",
       "      <td>-0.356544</td>\n",
       "      <td>0.962757</td>\n",
       "      <td>1.000000</td>\n",
       "    </tr>\n",
       "  </tbody>\n",
       "</table>\n",
       "</div>"
      ],
      "text/plain": [
       "              sepal_length  sepal_width  petal_length  petal_width\n",
       "sepal_length      1.000000    -0.109369      0.871754     0.817954\n",
       "sepal_width      -0.109369     1.000000     -0.420516    -0.356544\n",
       "petal_length      0.871754    -0.420516      1.000000     0.962757\n",
       "petal_width       0.817954    -0.356544      0.962757     1.000000"
      ]
     },
     "execution_count": 8,
     "metadata": {},
     "output_type": "execute_result"
    }
   ],
   "source": [
    "df.corr()"
   ]
  },
  {
   "cell_type": "markdown",
   "id": "quarterly-dependence",
   "metadata": {
    "papermill": {
     "duration": 0.028005,
     "end_time": "2021-06-13T21:37:52.277402",
     "exception": false,
     "start_time": "2021-06-13T21:37:52.249397",
     "status": "completed"
    },
    "tags": []
   },
   "source": [
    "Korelasyon katsayılarını daha iyi okuyabilmek için ısı haritası çizdirelim."
   ]
  },
  {
   "cell_type": "code",
   "execution_count": 9,
   "id": "coral-clarity",
   "metadata": {
    "execution": {
     "iopub.execute_input": "2021-06-13T21:37:52.336605Z",
     "iopub.status.busy": "2021-06-13T21:37:52.335930Z",
     "iopub.status.idle": "2021-06-13T21:37:52.554000Z",
     "shell.execute_reply": "2021-06-13T21:37:52.553557Z"
    },
    "papermill": {
     "duration": 0.248657,
     "end_time": "2021-06-13T21:37:52.554155",
     "exception": false,
     "start_time": "2021-06-13T21:37:52.305498",
     "status": "completed"
    },
    "tags": []
   },
   "outputs": [
    {
     "data": {
      "image/png": "[encoded data removed]",
      "text/plain": [
       "<Figure size 432x288 with 2 Axes>"
      ]
     },
     "metadata": {
      "needs_background": "light"
     },
     "output_type": "display_data"
    }
   ],
   "source": [
    "corr= df.corr()\n",
    "sns.heatmap(corr,xticklabels=corr.columns.values,yticklabels=corr.columns.values);"
   ]
  },
  {
   "cell_type": "markdown",
   "id": "false-constitutional",
   "metadata": {
    "papermill": {
     "duration": 0.028918,
     "end_time": "2021-06-13T21:37:52.612264",
     "exception": false,
     "start_time": "2021-06-13T21:37:52.583346",
     "status": "completed"
    },
    "tags": []
   },
   "source": [
    "Veri çerçevemizin hedef değişkeninin \"variety\" benzersiz değerlerini görüntüleyelim."
   ]
  },
  {
   "cell_type": "code",
   "execution_count": 10,
   "id": "dutch-there",
   "metadata": {
    "execution": {
     "iopub.execute_input": "2021-06-13T21:37:52.677725Z",
     "iopub.status.busy": "2021-06-13T21:37:52.676807Z",
     "iopub.status.idle": "2021-06-13T21:37:52.680545Z",
     "shell.execute_reply": "2021-06-13T21:37:52.680109Z"
    },
    "papermill": {
     "duration": 0.03823,
     "end_time": "2021-06-13T21:37:52.680673",
     "exception": false,
     "start_time": "2021-06-13T21:37:52.642443",
     "status": "completed"
    },
    "tags": []
   },
   "outputs": [
    {
     "data": {
      "text/plain": [
       "array(['Iris-setosa', 'Iris-versicolor', 'Iris-virginica'], dtype=object)"
      ]
     },
     "execution_count": 10,
     "metadata": {},
     "output_type": "execute_result"
    }
   ],
   "source": [
    "df[\"species\"].unique()"
   ]
  },
  {
   "cell_type": "markdown",
   "id": "handed-slide",
   "metadata": {
    "papermill": {
     "duration": 0.02932,
     "end_time": "2021-06-13T21:37:52.739592",
     "exception": false,
     "start_time": "2021-06-13T21:37:52.710272",
     "status": "completed"
    },
    "tags": []
   },
   "source": [
    "Veri çerçevemizin hedef değişkeninin \"variety\" benzersiz kaç adet değer içerdiğini görüntüleyelim."
   ]
  },
  {
   "cell_type": "code",
   "execution_count": 11,
   "id": "communist-layer",
   "metadata": {
    "execution": {
     "iopub.execute_input": "2021-06-13T21:37:52.805668Z",
     "iopub.status.busy": "2021-06-13T21:37:52.804741Z",
     "iopub.status.idle": "2021-06-13T21:37:52.808942Z",
     "shell.execute_reply": "2021-06-13T21:37:52.808397Z"
    },
    "papermill": {
     "duration": 0.038724,
     "end_time": "2021-06-13T21:37:52.809093",
     "exception": false,
     "start_time": "2021-06-13T21:37:52.770369",
     "status": "completed"
    },
    "tags": []
   },
   "outputs": [
    {
     "data": {
      "text/plain": [
       "3"
      ]
     },
     "execution_count": 11,
     "metadata": {},
     "output_type": "execute_result"
    }
   ],
   "source": [
    "df[\"species\"].nunique()"
   ]
  },
  {
   "cell_type": "markdown",
   "id": "dependent-original",
   "metadata": {
    "papermill": {
     "duration": 0.030306,
     "end_time": "2021-06-13T21:37:52.869591",
     "exception": false,
     "start_time": "2021-06-13T21:37:52.839285",
     "status": "completed"
    },
    "tags": []
   },
   "source": [
    "Veri çerçevesindeki sepal.width ve sepal.length değişkenlerinin sürekli olduğunu görüyoruz. Bu iki sürekli veriyi görselleştirmek için önce scatterplot kullanalım."
   ]
  },
  {
   "cell_type": "code",
   "execution_count": 12,
   "id": "superb-cuisine",
   "metadata": {
    "execution": {
     "iopub.execute_input": "2021-06-13T21:37:52.934636Z",
     "iopub.status.busy": "2021-06-13T21:37:52.933758Z",
     "iopub.status.idle": "2021-06-13T21:37:53.100798Z",
     "shell.execute_reply": "2021-06-13T21:37:53.100244Z"
    },
    "papermill": {
     "duration": 0.200571,
     "end_time": "2021-06-13T21:37:53.100928",
     "exception": false,
     "start_time": "2021-06-13T21:37:52.900357",
     "status": "completed"
    },
    "tags": []
   },
   "outputs": [
    {
     "data": {
      "image/png": "[encoded data removed]",
      "text/plain": [
       "<Figure size 432x288 with 1 Axes>"
      ]
     },
     "metadata": {
      "needs_background": "light"
     },
     "output_type": "display_data"
    }
   ],
   "source": [
    "sns.scatterplot(x=\"sepal_width\",y=\"sepal_length\", data=df,color=\"red\");"
   ]
  },
  {
   "cell_type": "markdown",
   "id": "veterinary-doctor",
   "metadata": {
    "papermill": {
     "duration": 0.030455,
     "end_time": "2021-06-13T21:37:53.162881",
     "exception": false,
     "start_time": "2021-06-13T21:37:53.132426",
     "status": "completed"
    },
    "tags": []
   },
   "source": [
    "Aynı iki veriyi daha farklı bir açıdan frekanslarıyla incelemek için jointplot kullanarak görselleştirelim. "
   ]
  },
  {
   "cell_type": "code",
   "execution_count": 13,
   "id": "distant-uncertainty",
   "metadata": {
    "execution": {
     "iopub.execute_input": "2021-06-13T21:37:53.244937Z",
     "iopub.status.busy": "2021-06-13T21:37:53.244366Z",
     "iopub.status.idle": "2021-06-13T21:37:53.645624Z",
     "shell.execute_reply": "2021-06-13T21:37:53.644765Z"
    },
    "papermill": {
     "duration": 0.452163,
     "end_time": "2021-06-13T21:37:53.645759",
     "exception": false,
     "start_time": "2021-06-13T21:37:53.193596",
     "status": "completed"
    },
    "tags": []
   },
   "outputs": [
    {
     "data": {
      "image/png": "[encoded data removed]",
      "text/plain": [
       "<Figure size 432x432 with 3 Axes>"
      ]
     },
     "metadata": {
      "needs_background": "light"
     },
     "output_type": "display_data"
    }
   ],
   "source": [
    "sns.jointplot(x=\"sepal_width\",y=\"sepal_length\", data=df,color=\"green\");"
   ]
  },
  {
   "cell_type": "markdown",
   "id": "gorgeous-vatican",
   "metadata": {
    "papermill": {
     "duration": 0.031424,
     "end_time": "2021-06-13T21:37:53.709376",
     "exception": false,
     "start_time": "2021-06-13T21:37:53.677952",
     "status": "completed"
    },
    "tags": []
   },
   "source": [
    "Aynı iki veriyi scatterplot ile tekrardan görselleştirelim fakat bu sefer \"variety\" parametresi ile hedef değişkenine göre kırdıralım. \n",
    "\n",
    "3 farklı renk arasında sepal değişkenleriyle bir kümeleme yapılabilir mi? Ne kadar ayırt edilebilir bunun üzerine düşünelim."
   ]
  },
  {
   "cell_type": "code",
   "execution_count": 14,
   "id": "noble-hamburg",
   "metadata": {
    "execution": {
     "iopub.execute_input": "2021-06-13T21:37:53.794319Z",
     "iopub.status.busy": "2021-06-13T21:37:53.790707Z",
     "iopub.status.idle": "2021-06-13T21:37:53.994943Z",
     "shell.execute_reply": "2021-06-13T21:37:53.994500Z"
    },
    "papermill": {
     "duration": 0.254134,
     "end_time": "2021-06-13T21:37:53.995062",
     "exception": false,
     "start_time": "2021-06-13T21:37:53.740928",
     "status": "completed"
    },
    "tags": []
   },
   "outputs": [
    {
     "data": {
      "image/png": "[encoded data removed]",
      "text/plain": [
       "<Figure size 432x288 with 1 Axes>"
      ]
     },
     "metadata": {
      "needs_background": "light"
     },
     "output_type": "display_data"
    }
   ],
   "source": [
    "sns.scatterplot(x=\"sepal_width\",y=\"sepal_length\", data=df,color=\"red\",hue=\"species\");"
   ]
  },
  {
   "cell_type": "markdown",
   "id": "sophisticated-infrared",
   "metadata": {
    "papermill": {
     "duration": 0.033506,
     "end_time": "2021-06-13T21:37:54.061915",
     "exception": false,
     "start_time": "2021-06-13T21:37:54.028409",
     "status": "completed"
    },
    "tags": []
   },
   "source": [
    "value_counts() fonksiyonu ile veri çerçevemizin ne kadar dengeli dağıldığını sorgulayalım. "
   ]
  },
  {
   "cell_type": "code",
   "execution_count": 15,
   "id": "hollow-september",
   "metadata": {
    "execution": {
     "iopub.execute_input": "2021-06-13T21:37:54.133894Z",
     "iopub.status.busy": "2021-06-13T21:37:54.133375Z",
     "iopub.status.idle": "2021-06-13T21:37:54.137017Z",
     "shell.execute_reply": "2021-06-13T21:37:54.136590Z"
    },
    "papermill": {
     "duration": 0.042433,
     "end_time": "2021-06-13T21:37:54.137165",
     "exception": false,
     "start_time": "2021-06-13T21:37:54.094732",
     "status": "completed"
    },
    "tags": []
   },
   "outputs": [
    {
     "data": {
      "text/plain": [
       "Iris-setosa        50\n",
       "Iris-virginica     50\n",
       "Iris-versicolor    50\n",
       "Name: species, dtype: int64"
      ]
     },
     "execution_count": 15,
     "metadata": {},
     "output_type": "execute_result"
    }
   ],
   "source": [
    "df[\"species\"].value_counts()"
   ]
  },
  {
   "cell_type": "markdown",
   "id": "minor-emergency",
   "metadata": {
    "papermill": {
     "duration": 0.032526,
     "end_time": "2021-06-13T21:37:54.202503",
     "exception": false,
     "start_time": "2021-06-13T21:37:54.169977",
     "status": "completed"
    },
    "tags": []
   },
   "source": [
    "Keman grafiği çizdirerek sepal.width değişkeninin dağılımını inceleyin. \n",
    "\n",
    "Söz konusu dağılım bizim için ne ifade ediyor, normal bir dağılım olduğunu söyleyebilir miyiz?"
   ]
  },
  {
   "cell_type": "code",
   "execution_count": 16,
   "id": "parliamentary-calculation",
   "metadata": {
    "execution": {
     "iopub.execute_input": "2021-06-13T21:37:54.284472Z",
     "iopub.status.busy": "2021-06-13T21:37:54.281313Z",
     "iopub.status.idle": "2021-06-13T21:37:54.375812Z",
     "shell.execute_reply": "2021-06-13T21:37:54.376237Z"
    },
    "papermill": {
     "duration": 0.141472,
     "end_time": "2021-06-13T21:37:54.376394",
     "exception": false,
     "start_time": "2021-06-13T21:37:54.234922",
     "status": "completed"
    },
    "tags": []
   },
   "outputs": [
    {
     "data": {
      "text/plain": [
       "<AxesSubplot:ylabel='sepal_width'>"
      ]
     },
     "execution_count": 16,
     "metadata": {},
     "output_type": "execute_result"
    },
    {
     "data": {
      "image/png": "[encoded data removed]",
      "text/plain": [
       "<Figure size 432x288 with 1 Axes>"
      ]
     },
     "metadata": {
      "needs_background": "light"
     },
     "output_type": "display_data"
    }
   ],
   "source": [
    "sns.violinplot(y=\"sepal_width\",data=df ,color=\"pink\")"
   ]
  },
  {
   "cell_type": "markdown",
   "id": "behind-walter",
   "metadata": {
    "papermill": {
     "duration": 0.035099,
     "end_time": "2021-06-13T21:37:54.445580",
     "exception": false,
     "start_time": "2021-06-13T21:37:54.410481",
     "status": "completed"
    },
    "tags": []
   },
   "source": [
    "Daha iyi anlayabilmek için sepal.width üzerine bir distplot çizdirelim."
   ]
  },
  {
   "cell_type": "code",
   "execution_count": 17,
   "id": "stable-republican",
   "metadata": {
    "execution": {
     "iopub.execute_input": "2021-06-13T21:37:54.516900Z",
     "iopub.status.busy": "2021-06-13T21:37:54.516371Z",
     "iopub.status.idle": "2021-06-13T21:37:54.662183Z",
     "shell.execute_reply": "2021-06-13T21:37:54.662564Z"
    },
    "papermill": {
     "duration": 0.182724,
     "end_time": "2021-06-13T21:37:54.662721",
     "exception": false,
     "start_time": "2021-06-13T21:37:54.479997",
     "status": "completed"
    },
    "tags": []
   },
   "outputs": [
    {
     "name": "stderr",
     "output_type": "stream",
     "text": [
      "/opt/conda/lib/python3.7/site-packages/seaborn/distributions.py:2557: FutureWarning: `distplot` is a deprecated function and will be removed in a future version. Please adapt your code to use either `displot` (a figure-level function with similar flexibility) or `histplot` (an axes-level function for histograms).\n",
      "  warnings.warn(msg, FutureWarning)\n"
     ]
    },
    {
     "data": {
      "image/png": "[encoded data removed]",
      "text/plain": [
       "<Figure size 432x288 with 1 Axes>"
      ]
     },
     "metadata": {
      "needs_background": "light"
     },
     "output_type": "display_data"
    }
   ],
   "source": [
    "sns.distplot(df[\"sepal_width\"],bins=8,color=\"pink\");"
   ]
  },
  {
   "cell_type": "markdown",
   "id": "abroad-farming",
   "metadata": {
    "papermill": {
     "duration": 0.034758,
     "end_time": "2021-06-13T21:37:54.732256",
     "exception": false,
     "start_time": "2021-06-13T21:37:54.697498",
     "status": "completed"
    },
    "tags": []
   },
   "source": [
    "Üç çiçek türü için üç farklı keman grafiğini sepal.length değişkeninin dağılımı üzerine tek bir satır ile görselleştirelim."
   ]
  },
  {
   "cell_type": "code",
   "execution_count": 18,
   "id": "challenging-justice",
   "metadata": {
    "execution": {
     "iopub.execute_input": "2021-06-13T21:37:54.809914Z",
     "iopub.status.busy": "2021-06-13T21:37:54.809358Z",
     "iopub.status.idle": "2021-06-13T21:37:54.952261Z",
     "shell.execute_reply": "2021-06-13T21:37:54.951705Z"
    },
    "papermill": {
     "duration": 0.185083,
     "end_time": "2021-06-13T21:37:54.952396",
     "exception": false,
     "start_time": "2021-06-13T21:37:54.767313",
     "status": "completed"
    },
    "tags": []
   },
   "outputs": [
    {
     "data": {
      "text/plain": [
       "<AxesSubplot:xlabel='species', ylabel='sepal_length'>"
      ]
     },
     "execution_count": 18,
     "metadata": {},
     "output_type": "execute_result"
    },
    {
     "data": {
      "image/png": "[encoded data removed]",
      "text/plain": [
       "<Figure size 432x288 with 1 Axes>"
      ]
     },
     "metadata": {
      "needs_background": "light"
     },
     "output_type": "display_data"
    }
   ],
   "source": [
    "sns.violinplot(x=\"species\",y=\"sepal_length\",data=df)"
   ]
  },
  {
   "cell_type": "markdown",
   "id": "southern-kitchen",
   "metadata": {
    "papermill": {
     "duration": 0.036085,
     "end_time": "2021-06-13T21:37:55.024640",
     "exception": false,
     "start_time": "2021-06-13T21:37:54.988555",
     "status": "completed"
    },
    "tags": []
   },
   "source": [
    "Hangi çiçek türünden kaçar adet gözlem barındırıyor veri çerçevemiz?\n",
    "\n",
    "50 x 3 olduğunu ve dengeli olduğunu value_counts ile zaten görmüştük, ancak bunu görsel olarak ifade etmek için sns.countplot() fonksiyonuna variety parametresini vereilm."
   ]
  },
  {
   "cell_type": "code",
   "execution_count": 19,
   "id": "functional-concentrate",
   "metadata": {
    "execution": {
     "iopub.execute_input": "2021-06-13T21:37:55.123307Z",
     "iopub.status.busy": "2021-06-13T21:37:55.104670Z",
     "iopub.status.idle": "2021-06-13T21:37:55.200150Z",
     "shell.execute_reply": "2021-06-13T21:37:55.199644Z"
    },
    "papermill": {
     "duration": 0.138127,
     "end_time": "2021-06-13T21:37:55.200298",
     "exception": false,
     "start_time": "2021-06-13T21:37:55.062171",
     "status": "completed"
    },
    "tags": []
   },
   "outputs": [
    {
     "data": {
      "text/plain": [
       "<AxesSubplot:xlabel='species', ylabel='count'>"
      ]
     },
     "execution_count": 19,
     "metadata": {},
     "output_type": "execute_result"
    },
    {
     "data": {
      "image/png": "[encoded data removed]",
      "text/plain": [
       "<Figure size 432x288 with 1 Axes>"
      ]
     },
     "metadata": {
      "needs_background": "light"
     },
     "output_type": "display_data"
    }
   ],
   "source": [
    "sns.countplot(x=\"species\",data=df)"
   ]
  },
  {
   "cell_type": "markdown",
   "id": "separated-destruction",
   "metadata": {
    "papermill": {
     "duration": 0.039075,
     "end_time": "2021-06-13T21:37:55.276544",
     "exception": false,
     "start_time": "2021-06-13T21:37:55.237469",
     "status": "completed"
    },
    "tags": []
   },
   "source": [
    "sepal.length ve sepal.width değişkenlerini sns.jointplot ile görselleştirelim, dağılımı ve dağılımın frekansı yüksek olduğu bölgelerini inceleyelim."
   ]
  },
  {
   "cell_type": "code",
   "execution_count": 20,
   "id": "accepting-spanking",
   "metadata": {
    "execution": {
     "iopub.execute_input": "2021-06-13T21:37:55.385931Z",
     "iopub.status.busy": "2021-06-13T21:37:55.385343Z",
     "iopub.status.idle": "2021-06-13T21:37:55.729988Z",
     "shell.execute_reply": "2021-06-13T21:37:55.730390Z"
    },
    "papermill": {
     "duration": 0.416034,
     "end_time": "2021-06-13T21:37:55.730553",
     "exception": false,
     "start_time": "2021-06-13T21:37:55.314519",
     "status": "completed"
    },
    "tags": []
   },
   "outputs": [
    {
     "data": {
      "text/plain": [
       "<seaborn.axisgrid.JointGrid at 0x7f5784e9a490>"
      ]
     },
     "execution_count": 20,
     "metadata": {},
     "output_type": "execute_result"
    },
    {
     "data": {
      "image/png": "[encoded data removed]",
      "text/plain": [
       "<Figure size 432x432 with 3 Axes>"
      ]
     },
     "metadata": {
      "needs_background": "light"
     },
     "output_type": "display_data"
    }
   ],
   "source": [
    "sns.jointplot(x=\"sepal_length\",y=\"sepal_width\",data=df,color=\"cyan\")"
   ]
  },
  {
   "cell_type": "markdown",
   "id": "incorporated-niagara",
   "metadata": {
    "papermill": {
     "duration": 0.038284,
     "end_time": "2021-06-13T21:37:55.806787",
     "exception": false,
     "start_time": "2021-06-13T21:37:55.768503",
     "status": "completed"
    },
    "tags": []
   },
   "source": [
    "Bir önceki hücrede yapmış olduğumuz görselleştirmeye kind = \"kde\" parametresini ekleyelim. Böylelikle dağılımın noktalı gösterimden çıkıp yoğunluk odaklı bir görselleştirmeye dönüştüğünü görmüş olacağız."
   ]
  },
  {
   "cell_type": "code",
   "execution_count": 21,
   "id": "velvet-mason",
   "metadata": {
    "execution": {
     "iopub.execute_input": "2021-06-13T21:37:55.888515Z",
     "iopub.status.busy": "2021-06-13T21:37:55.887648Z",
     "iopub.status.idle": "2021-06-13T21:37:56.471315Z",
     "shell.execute_reply": "2021-06-13T21:37:56.470804Z"
    },
    "papermill": {
     "duration": 0.625903,
     "end_time": "2021-06-13T21:37:56.471446",
     "exception": false,
     "start_time": "2021-06-13T21:37:55.845543",
     "status": "completed"
    },
    "tags": []
   },
   "outputs": [
    {
     "data": {
      "text/plain": [
       "<seaborn.axisgrid.JointGrid at 0x7f5784cb2f50>"
      ]
     },
     "execution_count": 21,
     "metadata": {},
     "output_type": "execute_result"
    },
    {
     "data": {
      "image/png": "[encoded data removed]",
      "text/plain": [
       "<Figure size 432x432 with 3 Axes>"
      ]
     },
     "metadata": {
      "needs_background": "light"
     },
     "output_type": "display_data"
    }
   ],
   "source": [
    "sns.jointplot(x=\"sepal_length\",y=\"sepal_width\",data=df,color=\"cyan\", kind = \"kde\")"
   ]
  },
  {
   "cell_type": "markdown",
   "id": "inappropriate-quantity",
   "metadata": {
    "papermill": {
     "duration": 0.040066,
     "end_time": "2021-06-13T21:37:56.551550",
     "exception": false,
     "start_time": "2021-06-13T21:37:56.511484",
     "status": "completed"
    },
    "tags": []
   },
   "source": [
    "scatterplot ile petal.length ve petal.width değişkenlerinin dağılımlarını çizdirelim."
   ]
  },
  {
   "cell_type": "code",
   "execution_count": 22,
   "id": "after-blank",
   "metadata": {
    "execution": {
     "iopub.execute_input": "2021-06-13T21:37:56.653111Z",
     "iopub.status.busy": "2021-06-13T21:37:56.646288Z",
     "iopub.status.idle": "2021-06-13T21:37:56.768306Z",
     "shell.execute_reply": "2021-06-13T21:37:56.767758Z"
    },
    "papermill": {
     "duration": 0.176035,
     "end_time": "2021-06-13T21:37:56.768443",
     "exception": false,
     "start_time": "2021-06-13T21:37:56.592408",
     "status": "completed"
    },
    "tags": []
   },
   "outputs": [
    {
     "data": {
      "image/png": "[encoded data removed]",
      "text/plain": [
       "<Figure size 432x288 with 1 Axes>"
      ]
     },
     "metadata": {
      "needs_background": "light"
     },
     "output_type": "display_data"
    }
   ],
   "source": [
    "sns.scatterplot(x=\"petal_length\",y=\"petal_width\",data=df);"
   ]
  },
  {
   "cell_type": "markdown",
   "id": "committed-harassment",
   "metadata": {
    "papermill": {
     "duration": 0.039897,
     "end_time": "2021-06-13T21:37:56.848842",
     "exception": false,
     "start_time": "2021-06-13T21:37:56.808945",
     "status": "completed"
    },
    "tags": []
   },
   "source": [
    "Aynı görselleştirmeye hue = \"variety\" parametresini ekleyerek 3. bir boyut verelim."
   ]
  },
  {
   "cell_type": "code",
   "execution_count": 23,
   "id": "engaging-concept",
   "metadata": {
    "execution": {
     "iopub.execute_input": "2021-06-13T21:37:56.961400Z",
     "iopub.status.busy": "2021-06-13T21:37:56.959422Z",
     "iopub.status.idle": "2021-06-13T21:37:57.157370Z",
     "shell.execute_reply": "2021-06-13T21:37:57.157793Z"
    },
    "papermill": {
     "duration": 0.268949,
     "end_time": "2021-06-13T21:37:57.157949",
     "exception": false,
     "start_time": "2021-06-13T21:37:56.889000",
     "status": "completed"
    },
    "tags": []
   },
   "outputs": [
    {
     "data": {
      "image/png": "[encoded data removed]",
      "text/plain": [
       "<Figure size 432x288 with 1 Axes>"
      ]
     },
     "metadata": {
      "needs_background": "light"
     },
     "output_type": "display_data"
    }
   ],
   "source": [
    "sns.scatterplot(x=\"petal_length\",y=\"petal_width\",data=df,hue = \"species\");"
   ]
  },
  {
   "cell_type": "markdown",
   "id": "informational-azerbaijan",
   "metadata": {
    "papermill": {
     "duration": 0.042787,
     "end_time": "2021-06-13T21:37:57.245516",
     "exception": false,
     "start_time": "2021-06-13T21:37:57.202729",
     "status": "completed"
    },
    "tags": []
   },
   "source": [
    "sns.lmplot() görselleştirmesini petal.length ve petal.width değişkenleriyle implemente edelim. Petal length ile petal width arasında ne tür bir ilişki var ve bu ilişki güçlü müdür? sorusunu yanıtlayalım."
   ]
  },
  {
   "cell_type": "code",
   "execution_count": 24,
   "id": "artificial-helicopter",
   "metadata": {
    "execution": {
     "iopub.execute_input": "2021-06-13T21:37:57.334800Z",
     "iopub.status.busy": "2021-06-13T21:37:57.333903Z",
     "iopub.status.idle": "2021-06-13T21:37:57.648033Z",
     "shell.execute_reply": "2021-06-13T21:37:57.648437Z"
    },
    "papermill": {
     "duration": 0.361392,
     "end_time": "2021-06-13T21:37:57.648600",
     "exception": false,
     "start_time": "2021-06-13T21:37:57.287208",
     "status": "completed"
    },
    "tags": []
   },
   "outputs": [
    {
     "data": {
      "text/plain": [
       "<seaborn.axisgrid.FacetGrid at 0x7f579175f510>"
      ]
     },
     "execution_count": 24,
     "metadata": {},
     "output_type": "execute_result"
    },
    {
     "data": {
      "image/png": "[encoded data removed]",
      "text/plain": [
       "<Figure size 360x360 with 1 Axes>"
      ]
     },
     "metadata": {
      "needs_background": "light"
     },
     "output_type": "display_data"
    }
   ],
   "source": [
    "sns.lmplot(x=\"petal_length\",y=\"petal_width\",data=df)"
   ]
  },
  {
   "cell_type": "markdown",
   "id": "asian-breast",
   "metadata": {
    "papermill": {
     "duration": 0.0424,
     "end_time": "2021-06-13T21:37:57.733390",
     "exception": false,
     "start_time": "2021-06-13T21:37:57.690990",
     "status": "completed"
    },
    "tags": []
   },
   "source": [
    "Bu sorunun yanıtını pekiştirmek için iki değişken arasında korelasyon katsayısını yazdıralım. "
   ]
  },
  {
   "cell_type": "code",
   "execution_count": 25,
   "id": "expensive-mandate",
   "metadata": {
    "execution": {
     "iopub.execute_input": "2021-06-13T21:37:57.824280Z",
     "iopub.status.busy": "2021-06-13T21:37:57.823659Z",
     "iopub.status.idle": "2021-06-13T21:37:57.827049Z",
     "shell.execute_reply": "2021-06-13T21:37:57.827488Z"
    },
    "papermill": {
     "duration": 0.051822,
     "end_time": "2021-06-13T21:37:57.827639",
     "exception": false,
     "start_time": "2021-06-13T21:37:57.775817",
     "status": "completed"
    },
    "tags": []
   },
   "outputs": [
    {
     "data": {
      "text/plain": [
       "0.9627570970509662"
      ]
     },
     "execution_count": 25,
     "metadata": {},
     "output_type": "execute_result"
    }
   ],
   "source": [
    "df.corr()[\"petal_length\"][\"petal_width\"]"
   ]
  },
  {
   "cell_type": "markdown",
   "id": "veterinary-panama",
   "metadata": {
    "papermill": {
     "duration": 0.04288,
     "end_time": "2021-06-13T21:37:57.913383",
     "exception": false,
     "start_time": "2021-06-13T21:37:57.870503",
     "status": "completed"
    },
    "tags": []
   },
   "source": [
    "Petal Length ile Sepal Length değerlerini toplayarak yeni bir total length özniteliği oluşturalım."
   ]
  },
  {
   "cell_type": "code",
   "execution_count": 26,
   "id": "nearby-devon",
   "metadata": {
    "execution": {
     "iopub.execute_input": "2021-06-13T21:37:58.005518Z",
     "iopub.status.busy": "2021-06-13T21:37:58.004951Z",
     "iopub.status.idle": "2021-06-13T21:37:58.007570Z",
     "shell.execute_reply": "2021-06-13T21:37:58.007004Z"
    },
    "papermill": {
     "duration": 0.051187,
     "end_time": "2021-06-13T21:37:58.007715",
     "exception": false,
     "start_time": "2021-06-13T21:37:57.956528",
     "status": "completed"
    },
    "tags": []
   },
   "outputs": [],
   "source": [
    "df[\"total_length\"]=df[\"petal_length\"]+df[\"petal_width\"]"
   ]
  },
  {
   "cell_type": "markdown",
   "id": "intelligent-sullivan",
   "metadata": {
    "papermill": {
     "duration": 0.042995,
     "end_time": "2021-06-13T21:37:58.093854",
     "exception": false,
     "start_time": "2021-06-13T21:37:58.050859",
     "status": "completed"
    },
    "tags": []
   },
   "source": [
    "total.length'in ortalama değerini yazdıralım. "
   ]
  },
  {
   "cell_type": "code",
   "execution_count": 27,
   "id": "american-diving",
   "metadata": {
    "execution": {
     "iopub.execute_input": "2021-06-13T21:37:58.187371Z",
     "iopub.status.busy": "2021-06-13T21:37:58.186562Z",
     "iopub.status.idle": "2021-06-13T21:37:58.190772Z",
     "shell.execute_reply": "2021-06-13T21:37:58.190228Z"
    },
    "papermill": {
     "duration": 0.052608,
     "end_time": "2021-06-13T21:37:58.190897",
     "exception": false,
     "start_time": "2021-06-13T21:37:58.138289",
     "status": "completed"
    },
    "tags": []
   },
   "outputs": [
    {
     "data": {
      "text/plain": [
       "4.9573333333333345"
      ]
     },
     "execution_count": 27,
     "metadata": {},
     "output_type": "execute_result"
    }
   ],
   "source": [
    "df[\"total_length\"].mean()"
   ]
  },
  {
   "cell_type": "markdown",
   "id": "wireless-price",
   "metadata": {
    "papermill": {
     "duration": 0.043357,
     "end_time": "2021-06-13T21:37:58.277961",
     "exception": false,
     "start_time": "2021-06-13T21:37:58.234604",
     "status": "completed"
    },
    "tags": []
   },
   "source": [
    "total.length'in standart sapma değerini yazdıralım."
   ]
  },
  {
   "cell_type": "code",
   "execution_count": 28,
   "id": "earned-emission",
   "metadata": {
    "execution": {
     "iopub.execute_input": "2021-06-13T21:37:58.370315Z",
     "iopub.status.busy": "2021-06-13T21:37:58.369636Z",
     "iopub.status.idle": "2021-06-13T21:37:58.373115Z",
     "shell.execute_reply": "2021-06-13T21:37:58.373503Z"
    },
    "papermill": {
     "duration": 0.051787,
     "end_time": "2021-06-13T21:37:58.373675",
     "exception": false,
     "start_time": "2021-06-13T21:37:58.321888",
     "status": "completed"
    },
    "tags": []
   },
   "outputs": [
    {
     "data": {
      "text/plain": [
       "2.5076619947850793"
      ]
     },
     "execution_count": 28,
     "metadata": {},
     "output_type": "execute_result"
    }
   ],
   "source": [
    "df[\"total_length\"].std()"
   ]
  },
  {
   "cell_type": "markdown",
   "id": "statutory-mention",
   "metadata": {
    "papermill": {
     "duration": 0.044831,
     "end_time": "2021-06-13T21:37:58.462133",
     "exception": false,
     "start_time": "2021-06-13T21:37:58.417302",
     "status": "completed"
    },
    "tags": []
   },
   "source": [
    "sepal.length'in maksimum değerini yazdıralım."
   ]
  },
  {
   "cell_type": "code",
   "execution_count": 29,
   "id": "canadian-lodging",
   "metadata": {
    "execution": {
     "iopub.execute_input": "2021-06-13T21:37:58.555397Z",
     "iopub.status.busy": "2021-06-13T21:37:58.554595Z",
     "iopub.status.idle": "2021-06-13T21:37:58.559652Z",
     "shell.execute_reply": "2021-06-13T21:37:58.559047Z"
    },
    "papermill": {
     "duration": 0.053765,
     "end_time": "2021-06-13T21:37:58.559795",
     "exception": false,
     "start_time": "2021-06-13T21:37:58.506030",
     "status": "completed"
    },
    "tags": []
   },
   "outputs": [
    {
     "data": {
      "text/plain": [
       "9.2"
      ]
     },
     "execution_count": 29,
     "metadata": {},
     "output_type": "execute_result"
    }
   ],
   "source": [
    "df[\"total_length\"].max()"
   ]
  },
  {
   "cell_type": "markdown",
   "id": "consolidated-identity",
   "metadata": {
    "papermill": {
     "duration": 0.043832,
     "end_time": "2021-06-13T21:37:58.648306",
     "exception": false,
     "start_time": "2021-06-13T21:37:58.604474",
     "status": "completed"
    },
    "tags": []
   },
   "source": [
    "sepal.length'i 5.5'den büyük ve türü setosa olan gözlemleri yazdıralım."
   ]
  },
  {
   "cell_type": "code",
   "execution_count": 30,
   "id": "progressive-genome",
   "metadata": {
    "execution": {
     "iopub.execute_input": "2021-06-13T21:37:58.746470Z",
     "iopub.status.busy": "2021-06-13T21:37:58.745589Z",
     "iopub.status.idle": "2021-06-13T21:37:58.750271Z",
     "shell.execute_reply": "2021-06-13T21:37:58.749779Z"
    },
    "papermill": {
     "duration": 0.058285,
     "end_time": "2021-06-13T21:37:58.750403",
     "exception": false,
     "start_time": "2021-06-13T21:37:58.692118",
     "status": "completed"
    },
    "tags": []
   },
   "outputs": [
    {
     "data": {
      "text/html": [
       "<div>\n",
       "<style scoped>\n",
       "    .dataframe tbody tr th:only-of-type {\n",
       "        vertical-align: middle;\n",
       "    }\n",
       "\n",
       "    .dataframe tbody tr th {\n",
       "        vertical-align: top;\n",
       "    }\n",
       "\n",
       "    .dataframe thead th {\n",
       "        text-align: right;\n",
       "    }\n",
       "</style>\n",
       "<table border=\"1\" class=\"dataframe\">\n",
       "  <thead>\n",
       "    <tr style=\"text-align: right;\">\n",
       "      <th></th>\n",
       "      <th>sepal_length</th>\n",
       "      <th>sepal_width</th>\n",
       "      <th>petal_length</th>\n",
       "      <th>petal_width</th>\n",
       "      <th>species</th>\n",
       "      <th>total_length</th>\n",
       "    </tr>\n",
       "  </thead>\n",
       "  <tbody>\n",
       "  </tbody>\n",
       "</table>\n",
       "</div>"
      ],
      "text/plain": [
       "Empty DataFrame\n",
       "Columns: [sepal_length, sepal_width, petal_length, petal_width, species, total_length]\n",
       "Index: []"
      ]
     },
     "execution_count": 30,
     "metadata": {},
     "output_type": "execute_result"
    }
   ],
   "source": [
    "df[(df[\"sepal_length\"]<5.5)&(df[\"species\"]==\"Setosa\")]"
   ]
  },
  {
   "cell_type": "markdown",
   "id": "interracial-bearing",
   "metadata": {
    "papermill": {
     "duration": 0.044197,
     "end_time": "2021-06-13T21:37:58.839117",
     "exception": false,
     "start_time": "2021-06-13T21:37:58.794920",
     "status": "completed"
    },
    "tags": []
   },
   "source": [
    "petal.length'i 5'den küçük ve türü virginica olan gözlemlerin sadece sepal.length ve sepal.width değişkenlerini ve değerlerini yazdıralım."
   ]
  },
  {
   "cell_type": "code",
   "execution_count": 31,
   "id": "indian-warren",
   "metadata": {
    "execution": {
     "iopub.execute_input": "2021-06-13T21:37:58.937215Z",
     "iopub.status.busy": "2021-06-13T21:37:58.936223Z",
     "iopub.status.idle": "2021-06-13T21:37:58.940519Z",
     "shell.execute_reply": "2021-06-13T21:37:58.940055Z"
    },
    "papermill": {
     "duration": 0.057253,
     "end_time": "2021-06-13T21:37:58.940644",
     "exception": false,
     "start_time": "2021-06-13T21:37:58.883391",
     "status": "completed"
    },
    "tags": []
   },
   "outputs": [
    {
     "data": {
      "text/html": [
       "<div>\n",
       "<style scoped>\n",
       "    .dataframe tbody tr th:only-of-type {\n",
       "        vertical-align: middle;\n",
       "    }\n",
       "\n",
       "    .dataframe tbody tr th {\n",
       "        vertical-align: top;\n",
       "    }\n",
       "\n",
       "    .dataframe thead th {\n",
       "        text-align: right;\n",
       "    }\n",
       "</style>\n",
       "<table border=\"1\" class=\"dataframe\">\n",
       "  <thead>\n",
       "    <tr style=\"text-align: right;\">\n",
       "      <th></th>\n",
       "      <th>sepal_length</th>\n",
       "      <th>sepal_width</th>\n",
       "    </tr>\n",
       "  </thead>\n",
       "  <tbody>\n",
       "  </tbody>\n",
       "</table>\n",
       "</div>"
      ],
      "text/plain": [
       "Empty DataFrame\n",
       "Columns: [sepal_length, sepal_width]\n",
       "Index: []"
      ]
     },
     "execution_count": 31,
     "metadata": {},
     "output_type": "execute_result"
    }
   ],
   "source": [
    "df[(df[\"petal_length\"]<5)&(df[\"species\"]==\"Virginica\")][[\"sepal_length\",\"sepal_width\"]]"
   ]
  },
  {
   "cell_type": "markdown",
   "id": "grand-christianity",
   "metadata": {
    "papermill": {
     "duration": 0.04402,
     "end_time": "2021-06-13T21:37:59.029239",
     "exception": false,
     "start_time": "2021-06-13T21:37:58.985219",
     "status": "completed"
    },
    "tags": []
   },
   "source": [
    "Hedef değişkenimiz variety'e göre bir gruplama işlemi yapalım değişken değerlerimizin ortalamasını görüntüleyelim."
   ]
  },
  {
   "cell_type": "code",
   "execution_count": 32,
   "id": "cognitive-melissa",
   "metadata": {
    "execution": {
     "iopub.execute_input": "2021-06-13T21:37:59.131367Z",
     "iopub.status.busy": "2021-06-13T21:37:59.130779Z",
     "iopub.status.idle": "2021-06-13T21:37:59.135247Z",
     "shell.execute_reply": "2021-06-13T21:37:59.135664Z"
    },
    "papermill": {
     "duration": 0.062207,
     "end_time": "2021-06-13T21:37:59.135838",
     "exception": false,
     "start_time": "2021-06-13T21:37:59.073631",
     "status": "completed"
    },
    "tags": []
   },
   "outputs": [
    {
     "data": {
      "text/html": [
       "<div>\n",
       "<style scoped>\n",
       "    .dataframe tbody tr th:only-of-type {\n",
       "        vertical-align: middle;\n",
       "    }\n",
       "\n",
       "    .dataframe tbody tr th {\n",
       "        vertical-align: top;\n",
       "    }\n",
       "\n",
       "    .dataframe thead th {\n",
       "        text-align: right;\n",
       "    }\n",
       "</style>\n",
       "<table border=\"1\" class=\"dataframe\">\n",
       "  <thead>\n",
       "    <tr style=\"text-align: right;\">\n",
       "      <th></th>\n",
       "      <th>sepal_length</th>\n",
       "      <th>sepal_width</th>\n",
       "      <th>petal_length</th>\n",
       "      <th>petal_width</th>\n",
       "      <th>total_length</th>\n",
       "    </tr>\n",
       "    <tr>\n",
       "      <th>species</th>\n",
       "      <th></th>\n",
       "      <th></th>\n",
       "      <th></th>\n",
       "      <th></th>\n",
       "      <th></th>\n",
       "    </tr>\n",
       "  </thead>\n",
       "  <tbody>\n",
       "    <tr>\n",
       "      <th>Iris-setosa</th>\n",
       "      <td>5.006</td>\n",
       "      <td>3.418</td>\n",
       "      <td>1.464</td>\n",
       "      <td>0.244</td>\n",
       "      <td>1.708</td>\n",
       "    </tr>\n",
       "    <tr>\n",
       "      <th>Iris-versicolor</th>\n",
       "      <td>5.936</td>\n",
       "      <td>2.770</td>\n",
       "      <td>4.260</td>\n",
       "      <td>1.326</td>\n",
       "      <td>5.586</td>\n",
       "    </tr>\n",
       "    <tr>\n",
       "      <th>Iris-virginica</th>\n",
       "      <td>6.588</td>\n",
       "      <td>2.974</td>\n",
       "      <td>5.552</td>\n",
       "      <td>2.026</td>\n",
       "      <td>7.578</td>\n",
       "    </tr>\n",
       "  </tbody>\n",
       "</table>\n",
       "</div>"
      ],
      "text/plain": [
       "                 sepal_length  sepal_width  petal_length  petal_width  \\\n",
       "species                                                                 \n",
       "Iris-setosa             5.006        3.418         1.464        0.244   \n",
       "Iris-versicolor         5.936        2.770         4.260        1.326   \n",
       "Iris-virginica          6.588        2.974         5.552        2.026   \n",
       "\n",
       "                 total_length  \n",
       "species                        \n",
       "Iris-setosa             1.708  \n",
       "Iris-versicolor         5.586  \n",
       "Iris-virginica          7.578  "
      ]
     },
     "execution_count": 32,
     "metadata": {},
     "output_type": "execute_result"
    }
   ],
   "source": [
    "df.groupby([\"species\"]).mean()"
   ]
  },
  {
   "cell_type": "markdown",
   "id": "adequate-tennessee",
   "metadata": {
    "papermill": {
     "duration": 0.04514,
     "end_time": "2021-06-13T21:37:59.226336",
     "exception": false,
     "start_time": "2021-06-13T21:37:59.181196",
     "status": "completed"
    },
    "tags": []
   },
   "source": [
    "Hedef değişkenimiz variety'e göre gruplama işlemi yaparak sadece petal.length değişkenimizin standart sapma değerlerini yazdıralım. "
   ]
  },
  {
   "cell_type": "code",
   "execution_count": 33,
   "id": "improved-wales",
   "metadata": {
    "execution": {
     "iopub.execute_input": "2021-06-13T21:37:59.324178Z",
     "iopub.status.busy": "2021-06-13T21:37:59.323322Z",
     "iopub.status.idle": "2021-06-13T21:37:59.327675Z",
     "shell.execute_reply": "2021-06-13T21:37:59.327141Z"
    },
    "papermill": {
     "duration": 0.056538,
     "end_time": "2021-06-13T21:37:59.327819",
     "exception": false,
     "start_time": "2021-06-13T21:37:59.271281",
     "status": "completed"
    },
    "tags": []
   },
   "outputs": [
    {
     "data": {
      "text/plain": [
       "species\n",
       "Iris-setosa        0.173511\n",
       "Iris-versicolor    0.469911\n",
       "Iris-virginica     0.551895\n",
       "Name: petal_length, dtype: float64"
      ]
     },
     "execution_count": 33,
     "metadata": {},
     "output_type": "execute_result"
    }
   ],
   "source": [
    "df.groupby([\"species\"])[\"petal_length\"].std()"
   ]
  },
  {
   "cell_type": "markdown",
   "id": "macro-validity",
   "metadata": {
    "papermill": {
     "duration": 0.045986,
     "end_time": "2021-06-13T21:37:59.419256",
     "exception": false,
     "start_time": "2021-06-13T21:37:59.373270",
     "status": "completed"
    },
    "tags": []
   },
   "source": [
    "Emeğiniz, ayırdığınız vakit ve ilginiz için teşekkürler."
   ]
  }
 ],
 "metadata": {
  "kernelspec": {
   "display_name": "Python 3",
   "language": "python",
   "name": "python3"
  },
  "language_info": {
   "codemirror_mode": {
    "name": "ipython",
    "version": 3
   },
   "file_extension": ".py",
   "mimetype": "text/x-python",
   "name": "python",
   "nbconvert_exporter": "python",
   "pygments_lexer": "ipython3",
   "version": "3.7.9"
  },
  "papermill": {
   "default_parameters": {},
   "duration": 15.592344,
   "end_time": "2021-06-13T21:38:00.175558",
   "environment_variables": {},
   "exception": null,
   "input_path": "__notebook__.ipynb",
   "output_path": "__notebook__.ipynb",
   "parameters": {},
   "start_time": "2021-06-13T21:37:44.583214",
   "version": "2.3.2"
  }
 },
 "nbformat": 4,
 "nbformat_minor": 5
}
